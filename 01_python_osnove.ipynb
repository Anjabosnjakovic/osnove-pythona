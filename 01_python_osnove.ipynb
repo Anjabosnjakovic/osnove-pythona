{
  "nbformat": 4,
  "nbformat_minor": 0,
  "metadata": {
    "colab": {
      "provenance": [],
      "include_colab_link": true
    },
    "kernelspec": {
      "name": "python3",
      "display_name": "Python 3"
    },
    "language_info": {
      "name": "python"
    }
  },
  "cells": [
    {
      "cell_type": "markdown",
      "metadata": {
        "id": "view-in-github",
        "colab_type": "text"
      },
      "source": [
        "<a href=\"https://colab.research.google.com/github/Anjabosnjakovic/osnove-pythona/blob/main/01_python_osnove.ipynb\" target=\"_parent\"><img src=\"https://colab.research.google.com/assets/colab-badge.svg\" alt=\"Open In Colab\"/></a>"
      ]
    },
    {
      "cell_type": "code",
      "source": [
        "import this"
      ],
      "metadata": {
        "colab": {
          "base_uri": "https://localhost:8080/"
        },
        "id": "9gbMfAuKKC1F",
        "outputId": "6675e6d6-0cfd-4d64-b9f0-3ef0e701f060"
      },
      "execution_count": 23,
      "outputs": [
        {
          "output_type": "stream",
          "name": "stdout",
          "text": [
            "The Zen of Python, by Tim Peters\n",
            "\n",
            "Beautiful is better than ugly.\n",
            "Explicit is better than implicit.\n",
            "Simple is better than complex.\n",
            "Complex is better than complicated.\n",
            "Flat is better than nested.\n",
            "Sparse is better than dense.\n",
            "Readability counts.\n",
            "Special cases aren't special enough to break the rules.\n",
            "Although practicality beats purity.\n",
            "Errors should never pass silently.\n",
            "Unless explicitly silenced.\n",
            "In the face of ambiguity, refuse the temptation to guess.\n",
            "There should be one-- and preferably only one --obvious way to do it.\n",
            "Although that way may not be obvious at first unless you're Dutch.\n",
            "Now is better than never.\n",
            "Although never is often better than *right* now.\n",
            "If the implementation is hard to explain, it's a bad idea.\n",
            "If the implementation is easy to explain, it may be a good idea.\n",
            "Namespaces are one honking great idea -- let's do more of those!\n"
          ]
        }
      ]
    },
    {
      "cell_type": "code",
      "source": [
        "5"
      ],
      "metadata": {
        "colab": {
          "base_uri": "https://localhost:8080/"
        },
        "id": "5E7h7Eq5TLKX",
        "outputId": "234f0f9a-ed4a-4542-ae57-7f487418829f"
      },
      "execution_count": 26,
      "outputs": [
        {
          "output_type": "execute_result",
          "data": {
            "text/plain": [
              "5"
            ]
          },
          "metadata": {},
          "execution_count": 26
        }
      ]
    },
    {
      "cell_type": "code",
      "source": [
        "qwrtz"
      ],
      "metadata": {
        "colab": {
          "base_uri": "https://localhost:8080/",
          "height": 176
        },
        "id": "BQlwsjpYS3ps",
        "outputId": "e03b9c93-0725-42f7-fa67-d98d789f64c4"
      },
      "execution_count": 25,
      "outputs": [
        {
          "output_type": "error",
          "ename": "NameError",
          "evalue": "ignored",
          "traceback": [
            "\u001b[0;31m---------------------------------------------------------------------------\u001b[0m",
            "\u001b[0;31mNameError\u001b[0m                                 Traceback (most recent call last)",
            "\u001b[0;32m<ipython-input-25-3469ca6b6064>\u001b[0m in \u001b[0;36m<cell line: 1>\u001b[0;34m()\u001b[0m\n\u001b[0;32m----> 1\u001b[0;31m \u001b[0mqwrtz\u001b[0m\u001b[0;34m\u001b[0m\u001b[0;34m\u001b[0m\u001b[0m\n\u001b[0m",
            "\u001b[0;31mNameError\u001b[0m: name 'qwrtz' is not defined"
          ]
        }
      ]
    },
    {
      "cell_type": "code",
      "execution_count": 4,
      "metadata": {
        "id": "ORVDYELSztdA",
        "colab": {
          "base_uri": "https://localhost:8080/",
          "height": 35
        },
        "outputId": "1af93257-b5c0-4461-b1ad-b36e8b137b9d"
      },
      "outputs": [
        {
          "output_type": "execute_result",
          "data": {
            "text/plain": [
              "'bla'"
            ],
            "application/vnd.google.colaboratory.intrinsic+json": {
              "type": "string"
            }
          },
          "metadata": {},
          "execution_count": 4
        }
      ],
      "source": [
        "'bla'\n",
        "\n"
      ]
    },
    {
      "cell_type": "code",
      "source": [
        "id('bla')"
      ],
      "metadata": {
        "colab": {
          "base_uri": "https://localhost:8080/"
        },
        "id": "SQ_TIyPYe3VV",
        "outputId": "7aaa75c3-c8e4-4fdd-e7bc-b50e9c9b05e4"
      },
      "execution_count": 5,
      "outputs": [
        {
          "output_type": "execute_result",
          "data": {
            "text/plain": [
              "134530610634032"
            ]
          },
          "metadata": {},
          "execution_count": 5
        }
      ]
    },
    {
      "cell_type": "markdown",
      "source": [
        "## Objekt:\n",
        "\n",
        "- Objekt u Pythonu predstavlja bilo koji podatak ili instancu klase sa svojim metodama i atributima. Objekti su osnovni temeljni elementi u Pythonu.\n",
        "- Svi tipovi podataka, kao što su brojevi, stringovi, liste, itd., su objekti.\n",
        "- Objekti imaju svoje metode i atribute koji određuju što se može raditi s njima.\n",
        "\n",
        "\n"
      ],
      "metadata": {
        "id": "eoKQBdOxCpxJ"
      }
    },
    {
      "cell_type": "code",
      "source": [
        "b='bla'\n",
        "id(b)"
      ],
      "metadata": {
        "colab": {
          "base_uri": "https://localhost:8080/"
        },
        "id": "OiDtwoKkfPZV",
        "outputId": "f48962b6-58ae-4e56-cd9a-37a69aaf6a78"
      },
      "execution_count": 6,
      "outputs": [
        {
          "output_type": "execute_result",
          "data": {
            "text/plain": [
              "134530610634032"
            ]
          },
          "metadata": {},
          "execution_count": 6
        }
      ]
    },
    {
      "cell_type": "markdown",
      "source": [
        "## Varijabla:\n",
        "Python varijable su rezervirana mjesta u memoriji koja se koriste za pohranu vrijednosti unutar Python programa. To znači da kada stvorite varijablu, rezervirate neki prostor u memoriji. Ovisno o tipu podataka varijable, Pythonov tumač (interpreter) dodjeljuje memoriju i odlučuje što se može pohraniti u rezerviranu memoriju\n",
        "- Varijabla u Pythonu je simboličko ime koje se koristi kao referenca ili pokazivač na objekt. Varijabla \"drži\" informaciju o memorijskoj lokaciji gdje se objekt nalazi.\n",
        "- Varijabla ne sadržava stvarni podatak, već samo referencu na objekt koji sadržava podatak.\n",
        "- Varijable se mogu ponovno dodijeliti drugim objektima.\n",
        "\n",
        "U suštini, objekt je sam podatak ili entitet, dok je varijabla ime koje koristimo za pristupanje ili referenciranje tog objekta u našem kodu."
      ],
      "metadata": {
        "id": "if-BIvtrDIXP"
      }
    },
    {
      "cell_type": "code",
      "source": [
        "print(b)\n",
        "#isti output dobivamo i ako samo upišemo ime varijable i stisnemo run"
      ],
      "metadata": {
        "colab": {
          "base_uri": "https://localhost:8080/"
        },
        "id": "9coy_9uyfkuT",
        "outputId": "831ae1b7-d2bc-469f-a184-5e52218c3e83"
      },
      "execution_count": 7,
      "outputs": [
        {
          "output_type": "stream",
          "name": "stdout",
          "text": [
            "bla\n"
          ]
        }
      ]
    },
    {
      "cell_type": "code",
      "source": [
        "#del(b)"
      ],
      "metadata": {
        "id": "q7ptE74Sf2dj"
      },
      "execution_count": null,
      "outputs": []
    },
    {
      "cell_type": "code",
      "source": [
        "a=b=10"
      ],
      "metadata": {
        "id": "CsGwRloohLMV"
      },
      "execution_count": 11,
      "outputs": []
    },
    {
      "cell_type": "code",
      "source": [
        "a is b\n",
        "\n",
        "#stvorite dvije varijable od kojih jedna ima manju vrijednost od druge.\n",
        "#Uz pomoć usporednih operatora (<,>,=) provjerite izlazne informacije o vašim varijablama\n",
        "#https://www.tutorialspoint.com/python/python_operators.htm\n"
      ],
      "metadata": {
        "colab": {
          "base_uri": "https://localhost:8080/"
        },
        "id": "HbpKD1EchS0w",
        "outputId": "1b9874ad-946f-41bc-a199-6ae8055b23e3"
      },
      "execution_count": 13,
      "outputs": [
        {
          "output_type": "execute_result",
          "data": {
            "text/plain": [
              "True"
            ]
          },
          "metadata": {},
          "execution_count": 13
        }
      ]
    },
    {
      "cell_type": "code",
      "source": [
        "id(a), id(b)"
      ],
      "metadata": {
        "colab": {
          "base_uri": "https://localhost:8080/"
        },
        "id": "eoEv-bWIhYDI",
        "outputId": "f6ab975c-e422-4654-a574-48e1bc26bc2b"
      },
      "execution_count": 11,
      "outputs": [
        {
          "output_type": "execute_result",
          "data": {
            "text/plain": [
              "(134531038478864, 134531038478864)"
            ]
          },
          "metadata": {},
          "execution_count": 11
        }
      ]
    },
    {
      "cell_type": "markdown",
      "source": [
        "# tipovi podataka\n",
        "Tip podataka predstavlja vrstu vrijednosti i određuje koje operacije se mogu izvoditi nad njom. Numerički, nenumerički i Boolean (istina/laž) podaci su neki od poznatijih vrsta podataka.\n",
        "\n",
        "\n",
        "*Python tipovi podataka koriste se za definiranje tipa varijable. Oni određuju koju vrstu podataka ćemo pohraniti u varijabli. Podaci pohranjeni u memoriji mogu biti različitih tipova. Na primjer, dob osobe pohranjena je kao numerička vrijednost, a njegova ili njezina adresa kao alfanumerički znakovi.*\n",
        "* brojevi\n",
        "  * cijeli brojevi\n",
        "  * decimalni brojevi\n",
        "  * kompleksni brojevi\n",
        "* stringovi (nizovi slova, brojki, znakova)\n",
        "* boolean vrijednosti\n",
        "* liste i dict-ovi\n",
        "\n",
        "\n",
        "\n",
        "\n"
      ],
      "metadata": {
        "id": "1DAYAAU5jJSp"
      }
    },
    {
      "cell_type": "code",
      "source": [
        "var1 = 1\n",
        "var2 = True\n",
        "var3 = 10.023\n",
        "var4 = 10+3j\n",
        "#otkrijte koje se operacije, funkcije, modeli i biblioteke mogu koristiti sa numeričkim tipovima podataka"
      ],
      "metadata": {
        "id": "zK_BMVe6jSe_"
      },
      "execution_count": 12,
      "outputs": []
    },
    {
      "cell_type": "code",
      "source": [
        "#var1,var2,var3,var4= 1,True,10.023, 10+3j"
      ],
      "metadata": {
        "id": "WYcsyt9LGSeC"
      },
      "execution_count": 4,
      "outputs": []
    },
    {
      "cell_type": "code",
      "source": [
        "#naredbom type() otkrijte tipove podataka koje se nalaze u var1,var2,var3,var4 i koje je vrste varijabla b spocetka skripte\n",
        "type()\n"
      ],
      "metadata": {
        "id": "1LJbXRmhm7IC"
      },
      "execution_count": null,
      "outputs": []
    },
    {
      "cell_type": "code",
      "source": [
        "#primjeri matematičkih funkcija sa numeričkim tipom podataka\n",
        "a = 10\n",
        "b = 5\n",
        "suma = a + b\n",
        "razlika = a - b\n",
        "produkt = a * b\n",
        "kvocijent = a / b\n",
        "eksponent = a ** b"
      ],
      "metadata": {
        "id": "nisxfSBEx9y7"
      },
      "execution_count": 14,
      "outputs": []
    },
    {
      "cell_type": "code",
      "source": [
        "import math\n",
        "sqrt = math.sqrt(a)  # Kvadratni korijen\n",
        "log = math.log(a)    # Prirodni logaritam\n",
        "sin = math.sin(a)    # Sinus funkcija\n"
      ],
      "metadata": {
        "id": "Q8yG3OtMy-wi"
      },
      "execution_count": 15,
      "outputs": []
    },
    {
      "cell_type": "code",
      "source": [
        "print(sqrt)"
      ],
      "metadata": {
        "colab": {
          "base_uri": "https://localhost:8080/"
        },
        "id": "Uc7fLzG-zwbO",
        "outputId": "e17daa4e-8630-4141-8996-fd7fef198d12"
      },
      "execution_count": 17,
      "outputs": [
        {
          "output_type": "stream",
          "name": "stdout",
          "text": [
            "3.1622776601683795\n"
          ]
        }
      ]
    },
    {
      "cell_type": "markdown",
      "source": [
        "*Python string je sekvencija jednog ili više Unicode znakova, okružena jednostrukim, dvostrukim ili trostrukim navodnicima (također poznatim kao inverzni navodnici). Python stringovi su nepromjenjivi, što znači da kada izvodite operaciju nad stringovima, uvijek proizvodite novi objekt stringa istog tipa, umjesto da mijenjate postojeći string.\n",
        "\n",
        "Dok god je ista sekvencija znakova zatvorena, jednostruki, dvostruki ili trostruki navodnici nisu važni.\n",
        "*\n",
        "String je tip nenumeričkih podataka što znači da ne možemo izvoditi aritmetičke operacije na njemu. Međutim, operacije kao što su rezanje (slicing) i spajanje (concatenation) mogu se obavljati. Pythonova klasa str definira niz korisnih metoda za obradu stringova. Podskupovi stringova mogu se uzeti koristeći operator za rezanje ([ ] i [:] ) s indeksima koji počinju od 0 na početku stringa i kreću se do -1 na kraju."
      ],
      "metadata": {
        "id": "ZZP1tjncGctr"
      }
    },
    {
      "cell_type": "code",
      "source": [
        "str = 'Hello World!'\n",
        "\n",
        "print (str)          # Prints complete string\n",
        "print (str[0])       # Prints first character of the string\n",
        "print (str[2:5])     # Prints characters starting from 3rd to 5th\n",
        "print (str[2:])      # Prints string starting from 3rd character\n",
        "print (str * 2)      # Prints string two times\n",
        "print (str + \"TEST\") # Prints concatenated string"
      ],
      "metadata": {
        "colab": {
          "base_uri": "https://localhost:8080/"
        },
        "id": "OmCX70nG7zfZ",
        "outputId": "0c176876-5b66-43cf-a8e1-021e963f7948"
      },
      "execution_count": 6,
      "outputs": [
        {
          "output_type": "stream",
          "name": "stdout",
          "text": [
            "Hello World!\n",
            "H\n",
            "llo\n",
            "llo World!\n",
            "Hello World!Hello World!\n",
            "Hello World!TEST\n"
          ]
        }
      ]
    },
    {
      "cell_type": "code",
      "source": [
        "#Python liste su najsvestraniji složeni tipovi podataka.\n",
        "# Python lista sadrži elemente odvojene zarezima i okružene uglatim zagradama ([]).\n",
        "[2023, \"Python\", 3.11, 5+6j, 1.23E-4]"
      ],
      "metadata": {
        "colab": {
          "base_uri": "https://localhost:8080/"
        },
        "id": "8792MttB5qo_",
        "outputId": "29b65783-5cac-46d6-86f9-cb2167d76f32"
      },
      "execution_count": 1,
      "outputs": [
        {
          "output_type": "execute_result",
          "data": {
            "text/plain": [
              "[2023, 'Python', 3.11, (5+6j), 0.000123]"
            ]
          },
          "metadata": {},
          "execution_count": 1
        }
      ]
    },
    {
      "cell_type": "code",
      "source": [
        "list = [ 'abcd', 786 , 2.23, 'john', 70.2 ]\n",
        "tinylist = [123, 'john']\n",
        "'''\n",
        "Vrijednostima pohranjenim u Python listi mogu se pristupiti korištenjem operatora rezanja ([ ] i [:]) s indeksima\n",
        "koji počinju od 0 na početku liste i kreću se prema kraju -1. Plus (+) znak je operator za konkatenaciju listi,\n",
        "a zvjezdica (*) je operator za ponavljanje.\n",
        "'''\n",
        "print (list)            # Prints complete list\n",
        "print (list[0])         # Prints first element of the list\n",
        "print (list[1:3])       # Prints elements starting from 2nd till 3rd\n",
        "print (list[2:])        # Prints elements starting from 3rd element\n",
        "print (tinylist * 2)    # Prints list two times\n",
        "print (list + tinylist) # Prints concatenated lists"
      ],
      "metadata": {
        "colab": {
          "base_uri": "https://localhost:8080/"
        },
        "id": "atltk_8A6_ei",
        "outputId": "0ed5a924-a9b4-4233-9a80-dab7148b5dd7"
      },
      "execution_count": 7,
      "outputs": [
        {
          "output_type": "stream",
          "name": "stdout",
          "text": [
            "['abcd', 786, 2.23, 'john', 70.2]\n",
            "abcd\n",
            "[786, 2.23]\n",
            "[2.23, 'john', 70.2]\n",
            "[123, 'john', 123, 'john']\n",
            "['abcd', 786, 2.23, 'john', 70.2, 123, 'john']\n"
          ]
        }
      ]
    },
    {
      "cell_type": "code",
      "source": [
        "#Stavka u listi može biti bilo kojeg tipa podataka. To znači da objekt liste također može biti stavka u drugoj listi.\n",
        "# U tom slučaju, postaje ugniježđena lista.\n",
        "[['One', 'Two', 'Three'], [1,2,3], [1.0, 2.0, 3.0]]"
      ],
      "metadata": {
        "id": "KzNB_ZFm8SFb"
      },
      "execution_count": null,
      "outputs": []
    },
    {
      "cell_type": "code",
      "source": [
        "'''\n",
        "Python rječnici (dictionaries) su kolekcije koje pohranjuju parove ključ-vrijednost.\n",
        "Svaki element u rječniku ima ključ koji se koristi za brzi pristup pripadajućoj vrijednosti.\n",
        "Rječnici su mutabilni, što znači da se njihov sadržaj može mijenjati nakon stvaranja.\n",
        "Rječnici se definiraju korištenjem vitičastih zagrada {}, a ključevi i vrijednosti se odvajaju dvotočkama.\n",
        "'''\n",
        "# Kreiranje rječnika\n",
        "moj_rjecnik = {\n",
        "    'ime': 'Ana',\n",
        "    'godine': 25,\n",
        "    'zanimanje': 'Inženjer'\n",
        "}\n",
        "\n",
        "# Prikazivanje vrijednosti za ključ 'ime'\n",
        "print(moj_rjecnik['ime'])\n",
        "\n",
        "# Dodavanje nove stavke u rječnik\n",
        "moj_rjecnik['grad'] = 'Zagreb'\n",
        "\n",
        "# Prikaz cijelog rječnika\n",
        "print(moj_rjecnik)\n"
      ],
      "metadata": {
        "colab": {
          "base_uri": "https://localhost:8080/"
        },
        "id": "9iQbmynrLEJz",
        "outputId": "de67b830-4e3e-4fa0-ae6d-744b6eb8fec5"
      },
      "execution_count": 8,
      "outputs": [
        {
          "output_type": "stream",
          "name": "stdout",
          "text": [
            "Ana\n",
            "{'ime': 'Ana', 'godine': 25, 'zanimanje': 'Inženjer', 'grad': 'Zagreb'}\n"
          ]
        }
      ]
    },
    {
      "cell_type": "markdown",
      "source": [
        "###Funkcije\n",
        "Funkcije u Pythonu su blokovi koda koji se koriste za izvođenje određene radnje. Evo ključnih aspekata funkcija:\n",
        "\n",
        "Definiranje funkcije: Funkciju definirate pomoću ključne riječi **def**, zatim slijedi ime funkcije i zagrade. Parametri funkcije navode se unutar zagrada."
      ],
      "metadata": {
        "id": "yiACCnSy0Zjr"
      }
    },
    {
      "cell_type": "code",
      "source": [
        "def moja_funkcija():\n",
        "    print(\"Pozdrav iz moje funkcije!\")\n"
      ],
      "metadata": {
        "id": "FBvAyMJc1OA1"
      },
      "execution_count": 19,
      "outputs": []
    },
    {
      "cell_type": "code",
      "source": [
        "#Pozivanje funkcije: Funkciju pozivate tako da napišete njeno ime s zagradama.\n",
        "# Ako funkcija ima parametre, oni se navode unutar zagrada.\n",
        "moja_funkcija()  # Poziva funkciju moja_funkcija\n"
      ],
      "metadata": {
        "colab": {
          "base_uri": "https://localhost:8080/"
        },
        "id": "iEAJb-NK1Qj4",
        "outputId": "30e73cfb-7a82-42a7-b0af-5c13cf778f40"
      },
      "execution_count": 20,
      "outputs": [
        {
          "output_type": "stream",
          "name": "stdout",
          "text": [
            "Pozdrav iz moje funkcije!\n"
          ]
        }
      ]
    },
    {
      "cell_type": "code",
      "source": [
        "#Parametri i argumenti: Parametri su varijable navedene unutar zagrada u definiciji funkcije.\n",
        "# Argumenti su vrijednosti koje se šalju funkciji kada je pozovete.\n",
        "def pozdrav(ime):\n",
        "    print(f\"Pozdrav, {ime}!\")\n",
        "\n",
        "pozdrav(\"Ana\")  # Poziva funkciju s argumentom \"Ana\"\n"
      ],
      "metadata": {
        "colab": {
          "base_uri": "https://localhost:8080/"
        },
        "id": "XzHxgu9U1nRT",
        "outputId": "611a7fde-bbc0-4a7f-fd92-246ceef1d634"
      },
      "execution_count": 21,
      "outputs": [
        {
          "output_type": "stream",
          "name": "stdout",
          "text": [
            "Pozdrav, Ana!\n"
          ]
        }
      ]
    },
    {
      "cell_type": "markdown",
      "source": [
        "Ako imate imena u listi, možete koristiti petlju da prolazite kroz svako ime u listi i pozivate funkciju pozdrav za svako ime.\n",
        "\n",
        "Petlje u programiranju koriste se za ponavljanje određenog bloka koda više puta. U Pythonu, dva glavna tipa petlji su **for** i **while** petlja.\n",
        "\n",
        "For Petlja: Koristi se za iteraciju kroz niz, poput liste, tuple-a, rječnika, skupa, ili niza znakova (string)\n",
        "\n",
        "While Petlja: Izvršava se sve dok je određeni uvjet ispunjen"
      ],
      "metadata": {
        "id": "a04hDUrH5O9y"
      }
    },
    {
      "cell_type": "code",
      "source": [
        "def pozdrav(ime):\n",
        "    print(f\"Pozdrav, {ime}!\")\n",
        "\n",
        "imena = [\"Ana\", \"Ivan\", \"Marta\"]\n",
        "\n",
        "for ime in imena:\n",
        "    pozdrav(ime)\n"
      ],
      "metadata": {
        "colab": {
          "base_uri": "https://localhost:8080/"
        },
        "id": "B9c03N5P5CbP",
        "outputId": "8082c8d2-20f9-4758-d4b9-ea7fdf9cb88d"
      },
      "execution_count": 22,
      "outputs": [
        {
          "output_type": "stream",
          "name": "stdout",
          "text": [
            "Pozdrav, Ana!\n",
            "Pozdrav, Ivan!\n",
            "Pozdrav, Marta!\n"
          ]
        }
      ]
    },
    {
      "cell_type": "code",
      "source": [
        "\n",
        "\n",
        "# Varijable različitih tipova podataka pretvorite u druge tipove podataka.(integer u float, float u integer itd...)\n",
        "integer_var = 10\n",
        "float_var = 5.5\n",
        "string_var = \"Python\"\n",
        "boolean_var = True\n",
        "list_var = [1, 2, 3]\n"
      ],
      "metadata": {
        "id": "nXdbrBW-UmsN"
      },
      "execution_count": 9,
      "outputs": []
    }
  ]
}